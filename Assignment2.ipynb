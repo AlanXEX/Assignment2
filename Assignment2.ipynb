{
 "cells": [
  {
   "cell_type": "markdown",
   "metadata": {},
   "source": [
    "## Function to calculate the probability of a specific character in the text"
   ]
  },
  {
   "cell_type": "code",
   "execution_count": 1,
   "metadata": {},
   "outputs": [],
   "source": [
    "def probability_of_symbols(input_text):\n",
    "    symb_occur = {i: round(float(input_text.count(i)/len(input_text)), 4) for i in set(input_text)}\n",
    "    symb_occur_sorted = sorted(symb_occur, key=symb_occur.get, reverse=True)\n",
    "    print(\"Probability of each character :\\n \")\n",
    "    for j in symb_occur_sorted:\n",
    "        print(j,'-', symb_occur[j])"
   ]
  },
  {
   "cell_type": "code",
   "execution_count": 2,
   "metadata": {},
   "outputs": [
    {
     "name": "stdout",
     "output_type": "stream",
     "text": [
      "Probability of each character :\n",
      " \n",
      "  - 0.1387\n",
      "e - 0.0821\n",
      "i - 0.0794\n",
      "o - 0.0776\n",
      "t - 0.0757\n",
      "n - 0.0684\n",
      "a - 0.0602\n",
      "r - 0.0538\n",
      "s - 0.0356\n",
      "l - 0.0338\n",
      "c - 0.0319\n",
      "m - 0.031\n",
      "h - 0.0292\n",
      "f - 0.0292\n",
      "y - 0.0265\n",
      "u - 0.0237\n",
      "d - 0.0192\n",
      "p - 0.0155\n",
      ", - 0.0146\n",
      "g - 0.0091\n",
      ". - 0.0073\n",
      "b - 0.0055\n",
      "v - 0.0055\n",
      "w - 0.0055\n",
      "q - 0.0046\n",
      "x - 0.0036\n",
      "k - 0.0036\n",
      "( - 0.0027\n",
      ") - 0.0027\n",
      "9 - 0.0018\n",
      "S - 0.0018\n",
      "T - 0.0018\n",
      "\n",
      " - 0.0018\n",
      "I - 0.0018\n",
      "- - 0.0018\n",
      "H - 0.0018\n",
      "0 - 0.0018\n",
      "1 - 0.0018\n",
      "4 - 0.0009\n",
      "E - 0.0009\n",
      "F - 0.0009\n",
      "C - 0.0009\n",
      "A - 0.0009\n",
      "N - 0.0009\n",
      "R - 0.0009\n",
      "2 - 0.0009\n"
     ]
    }
   ],
   "source": [
    "data = open(\"Text.txt\",\"r\").read()\n",
    "probability_of_symbols(data)\n"
   ]
  },
  {
   "cell_type": "code",
   "execution_count": null,
   "metadata": {},
   "outputs": [],
   "source": []
  },
  {
   "cell_type": "code",
   "execution_count": null,
   "metadata": {},
   "outputs": [],
   "source": []
  }
 ],
 "metadata": {
  "kernelspec": {
   "display_name": "Python 3",
   "language": "python",
   "name": "python3"
  },
  "language_info": {
   "codemirror_mode": {
    "name": "ipython",
    "version": 3
   },
   "file_extension": ".py",
   "mimetype": "text/x-python",
   "name": "python",
   "nbconvert_exporter": "python",
   "pygments_lexer": "ipython3",
   "version": "3.8.5"
  }
 },
 "nbformat": 4,
 "nbformat_minor": 4
}
